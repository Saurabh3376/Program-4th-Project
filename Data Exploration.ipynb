{
 "cells": [
  {
   "cell_type": "code",
   "execution_count": 1,
   "id": "3e2396cd",
   "metadata": {},
   "outputs": [],
   "source": [
    "train_file = r\"C:\\Users\\Saurabh\\Desktop\\1. Edvancer\\Project_4_python\\housing_train.csv\""
   ]
  },
  {
   "cell_type": "code",
   "execution_count": 6,
   "id": "3b5ff216",
   "metadata": {},
   "outputs": [],
   "source": [
    "bd_train = pd.read_csv(train_file)"
   ]
  },
  {
   "cell_type": "code",
   "execution_count": 4,
   "id": "02c83dec",
   "metadata": {},
   "outputs": [],
   "source": [
    "import pandas as pd\n",
    "import numpy as np"
   ]
  },
  {
   "cell_type": "code",
   "execution_count": 9,
   "id": "8f910bd5",
   "metadata": {},
   "outputs": [
    {
     "data": {
      "text/plain": [
       "432958829214.67993"
      ]
     },
     "execution_count": 9,
     "metadata": {},
     "output_type": "execute_result"
    }
   ],
   "source": [
    "bd_train['Price'].var()"
   ]
  },
  {
   "cell_type": "code",
   "execution_count": 12,
   "id": "7c5701a9",
   "metadata": {},
   "outputs": [
    {
     "data": {
      "text/plain": [
       "3717"
      ]
     },
     "execution_count": 12,
     "metadata": {},
     "output_type": "execute_result"
    }
   ],
   "source": [
    "bd_train['YearBuilt'].isnull().sum()"
   ]
  },
  {
   "cell_type": "code",
   "execution_count": 14,
   "id": "91c104eb",
   "metadata": {},
   "outputs": [
    {
     "name": "stdout",
     "output_type": "stream",
     "text": [
      "<class 'pandas.core.frame.DataFrame'>\n",
      "RangeIndex: 7536 entries, 0 to 7535\n",
      "Data columns (total 16 columns):\n",
      " #   Column        Non-Null Count  Dtype  \n",
      "---  ------        --------------  -----  \n",
      " 0   Suburb        7536 non-null   object \n",
      " 1   Address       7536 non-null   object \n",
      " 2   Rooms         7536 non-null   int64  \n",
      " 3   Type          7536 non-null   object \n",
      " 4   Price         7536 non-null   int64  \n",
      " 5   Method        7536 non-null   object \n",
      " 6   SellerG       7536 non-null   object \n",
      " 7   Distance      7536 non-null   float64\n",
      " 8   Postcode      7536 non-null   int64  \n",
      " 9   Bedroom2      5977 non-null   float64\n",
      " 10  Bathroom      5977 non-null   float64\n",
      " 11  Car           5977 non-null   float64\n",
      " 12  Landsize      5972 non-null   float64\n",
      " 13  BuildingArea  3327 non-null   float64\n",
      " 14  YearBuilt     3819 non-null   float64\n",
      " 15  CouncilArea   5972 non-null   object \n",
      "dtypes: float64(7), int64(3), object(6)\n",
      "memory usage: 942.1+ KB\n"
     ]
    }
   ],
   "source": [
    "bd_train.info()"
   ]
  },
  {
   "cell_type": "code",
   "execution_count": 17,
   "id": "a76f13b3",
   "metadata": {},
   "outputs": [
    {
     "data": {
      "text/plain": [
       "Type\n",
       "h    1.294320e+06\n",
       "t    9.019357e+05\n",
       "u    6.058606e+05\n",
       "Name: Price, dtype: float64"
      ]
     },
     "execution_count": 17,
     "metadata": {},
     "output_type": "execute_result"
    }
   ],
   "source": [
    "bd_train.groupby(['Type'])['Price'].mean()"
   ]
  },
  {
   "cell_type": "code",
   "execution_count": 21,
   "id": "c3143503",
   "metadata": {},
   "outputs": [
    {
     "data": {
      "text/plain": [
       "3073    270\n",
       "3020    221\n",
       "3165    202\n",
       "3046    196\n",
       "3121    188\n",
       "       ... \n",
       "3021     13\n",
       "3047     12\n",
       "3083     10\n",
       "3061      5\n",
       "3008      4\n",
       "Name: Postcode, Length: 94, dtype: int64"
      ]
     },
     "execution_count": 21,
     "metadata": {},
     "output_type": "execute_result"
    }
   ],
   "source": [
    "bd_train['Postcode'].value_counts()"
   ]
  },
  {
   "cell_type": "code",
   "execution_count": 22,
   "id": "c38b614a",
   "metadata": {},
   "outputs": [
    {
     "data": {
      "text/plain": [
       "0        5.2\n",
       "1       11.2\n",
       "2        8.4\n",
       "3       10.7\n",
       "4        7.5\n",
       "        ... \n",
       "7531     6.4\n",
       "7532    11.5\n",
       "7533     7.8\n",
       "7534     2.6\n",
       "7535     5.9\n",
       "Name: Distance, Length: 7536, dtype: float64"
      ]
     },
     "execution_count": 22,
     "metadata": {},
     "output_type": "execute_result"
    }
   ],
   "source": [
    "bd_train['Distance']"
   ]
  },
  {
   "cell_type": "code",
   "execution_count": 24,
   "id": "2a159957",
   "metadata": {},
   "outputs": [],
   "source": [
    "from scipy import stats\n"
   ]
  },
  {
   "cell_type": "code",
   "execution_count": 25,
   "id": "a34e1d19",
   "metadata": {},
   "outputs": [
    {
     "data": {
      "text/plain": [
       "NormaltestResult(statistic=2096.2932337709917, pvalue=0.0)"
      ]
     },
     "execution_count": 25,
     "metadata": {},
     "output_type": "execute_result"
    }
   ],
   "source": [
    "stats.normaltest(bd_train[\"Distance\"])"
   ]
  },
  {
   "cell_type": "code",
   "execution_count": 33,
   "id": "ea61eb61",
   "metadata": {},
   "outputs": [
    {
     "data": {
      "text/plain": [
       "CouncilArea\n",
       "Banyule          2.045693e+11\n",
       "Bayside          6.128933e+11\n",
       "Boroondara       7.801388e+11\n",
       "Brimbank         2.624122e+10\n",
       "Darebin          2.187711e+11\n",
       "Glen Eira        2.206234e+11\n",
       "Hobsons Bay      2.320397e+11\n",
       "Hume             6.594892e+09\n",
       "Kingston         4.981296e+10\n",
       "Manningham       9.868550e+10\n",
       "Maribyrnong      9.436060e+10\n",
       "Melbourne        3.258318e+11\n",
       "Monash           1.107299e+11\n",
       "Moonee Valley    1.691861e+11\n",
       "Moreland         1.036903e+11\n",
       "Port Phillip     5.490051e+11\n",
       "Stonnington      9.942186e+11\n",
       "Whitehorse       4.274222e+11\n",
       "Yarra            2.769339e+11\n",
       "Name: Price, dtype: float64"
      ]
     },
     "execution_count": 33,
     "metadata": {},
     "output_type": "execute_result"
    }
   ],
   "source": [
    "bd_train.groupby(['CouncilArea'])['Price'].var()"
   ]
  }
 ],
 "metadata": {
  "kernelspec": {
   "display_name": "Python 3",
   "language": "python",
   "name": "python3"
  },
  "language_info": {
   "codemirror_mode": {
    "name": "ipython",
    "version": 3
   },
   "file_extension": ".py",
   "mimetype": "text/x-python",
   "name": "python",
   "nbconvert_exporter": "python",
   "pygments_lexer": "ipython3",
   "version": "3.8.8"
  }
 },
 "nbformat": 4,
 "nbformat_minor": 5
}
